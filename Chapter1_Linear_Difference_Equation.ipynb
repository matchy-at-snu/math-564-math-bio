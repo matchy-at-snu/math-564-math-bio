{
 "cells": [
  {
   "cell_type": "markdown",
   "metadata": {},
   "source": [
    "# Chapter 1. Linear Difference Equations"
   ]
  },
  {
   "cell_type": "markdown",
   "metadata": {},
   "source": [
    "## Simple linear difference equations\n",
    "\n",
    "A linear difference equation is an equation in the form of:\n",
    "\n",
    "$$\n",
    "x_n = \\mathrm{F}(x_{n-1}, x_{n-2}, x_{n-3}, ...),\n",
    "$$\n",
    "\n",
    "where properties of $n$th term of x is dependent on the previous terms\n",
    "\n",
    "Particularly, a simple linear difference equation is in the form of:\n",
    "$$\n",
    "x_n = \\lambda x_{n-1}\n",
    "$$\n",
    "\n",
    "and will have a solution in the form of:\n",
    "$$\n",
    "x_n = \\lambda^n x_0\n",
    "$$\n",
    "given $x_0$ as the initial condition"
   ]
  },
  {
   "cell_type": "markdown",
   "metadata": {},
   "source": [
    "## Two examples of simple linear difference equatinos\n",
    "\n",
    "### Example 1: Cell division\n",
    "\n",
    "$M_n$: population of cells at time n\n",
    "\n",
    "$a$: number of daughter cells generated per cell\n",
    "\n",
    "$$\n",
    "\\begin{aligned}\n",
    "M_{n+1} &= aM_n\\\\\n",
    "&= a(aM_{n-1})\\\\\n",
    "&= a^2 M_{n-1}\\\\\n",
    "&= M_0 a^n\n",
    "\\end{aligned}\n",
    "$$"
   ]
  },
  {
   "cell_type": "markdown",
   "metadata": {},
   "source": [
    "### Example 2: Insect population\n",
    "\n",
    "$$\n",
    "\\begin{aligned}\n",
    "a_n &= \\text{ adults(females)}\\\\\n",
    "p_n &= \\text{ kids(progeny)}\\\\\n",
    "m &= \\text{ mortality}\\\\\n",
    "f &= \\text{ average kids per female (productivity/fertility)}\\\\\n",
    "r &= \\text{ percentage female of adults}\n",
    "\\end{aligned}\n",
    "$$"
   ]
  },
  {
   "cell_type": "markdown",
   "metadata": {},
   "source": [
    "So we can have a couple of equations:\n",
    "\n",
    "$$\n",
    "\\left\\{\n",
    "\\begin{aligned}\n",
    "p_{n+1} &= fa_n\\\\\n",
    "a_{n+1} &= r(1-m)p_{n+1}\n",
    "\\end{aligned}\n",
    "\\right.\n",
    "\\Rightarrow a_{n+1} = \\underset{constants}{[rf(1-m)]} a_n = [rf(1-m)]^{n+1}a_0\n",
    "$$"
   ]
  },
  {
   "cell_type": "markdown",
   "metadata": {},
   "source": [
    "---\n",
    "\n",
    "## Higher-order linear difference equations\n",
    "\n",
    "### Example 3: annual plants (second-order linear difference equations)\n",
    "\n",
    "Life cycle of the annual plants:\n",
    "\n",
    "![annual plant life cycle](media/chap1/fig1annualplant.png)"
   ]
  },
  {
   "cell_type": "markdown",
   "metadata": {},
   "source": [
    "Variables\n",
    "$$\n",
    "\\begin{aligned}\n",
    "\\gamma &= \\text{number of seeds per plant}\\\\\n",
    "\\alpha &= \\text{percentage of 1 y/o seeds that sprout}\\\\\n",
    "\\beta &= \\text{percentage of 2 y/o seeds that sprout}\\\\\n",
    "\\sigma &= \\text{winter mortality}\\\\\n",
    "\\\\\n",
    "p_n &= \\text{plant}\\\\\n",
    "s_n^1 &= \\text{seeds spring 1y/o}\\\\\n",
    "s_n^2 &= \\text{seeds spring 2y/o}\\\\\n",
    "\\overline{s_n^1} &= \\text{seeds august (1y/o) (decided not to sprout)}\\\\\n",
    "\\overline{s_n^2} &= \\text{seeds august (2y/o)}\\\\\n",
    "s_n^0 &= \\text{new seeds}\n",
    "\\end{aligned}\n",
    "$$"
   ]
  },
  {
   "cell_type": "markdown",
   "metadata": {},
   "source": [
    "Listing the equations:\n",
    "$$\n",
    "\\left\\{\n",
    "\\begin{aligned}\n",
    "&p_n = \\alpha s_n^1 + \\beta s_n^2 &(a)\\\\\n",
    "&\\overline{s_n^1} = (1-\\alpha)s_n^1 &(b)\\\\\n",
    "&\\overline{s_n^2} = (1-\\alpha)s_n^2 &(c)\\\\\n",
    "&s_n^0=\\gamma p_n &(d)\\\\\n",
    "&s_{n+1}^1 = \\sigma s_n^0 &(e)\\\\\n",
    "&s_{n+1}^2 = \\sigma \\overline{s_n^1} &(f)\n",
    "\\end{aligned}\n",
    "\\right.\\\\\n",
    "$$\n",
    "So that \n",
    "$$\n",
    "\\begin{aligned}\n",
    "&d\\rightarrow e &s_{n+1}^1 &= \\sigma\\gamma p_n\\\\\n",
    "&b\\rightarrow f &s_{n+1}^2 &= \\sigma (1-\\alpha)s_n^1\\\\\n",
    "\\end{aligned}\n",
    "$$"
   ]
  },
  {
   "cell_type": "markdown",
   "metadata": {},
   "source": [
    "The solution would be:\n",
    "$$\n",
    "\\left\\{\n",
    "\\begin{aligned}\n",
    "p_n &= \\alpha\\sigma\\gamma p_{n-1}+\\beta\\sigma(1-\\alpha)s_n^1\\\\\n",
    "s_n^1 &= \\sigma\\gamma p_{n-1}\n",
    "\\end{aligned}\n",
    "\\right.\n",
    "$$\n",
    "\n",
    "Or further simplifying it:\n",
    "$$\n",
    "p_n = \\alpha\\sigma\\gamma p_{n-1} + \\beta\\sigma^2(1-\\alpha)\\gamma p_{n-2}\n",
    "$$"
   ]
  },
  {
   "cell_type": "markdown",
   "metadata": {},
   "source": [
    "This is a **second-order linear difference equation**, where the term $x_n$ is described by the **2** terms before it ($x_{n-1}$ and $x_{n-2}$).\n",
    "\n",
    "Here comes the introduction on how to solve higher-order linear difference equation."
   ]
  },
  {
   "cell_type": "markdown",
   "metadata": {},
   "source": [
    "### How to solve higher-order linear difference equations (normal)\n",
    "\n",
    "Consider a general system of first-order difference equation\n",
    "\n",
    "$$\n",
    "\\begin{aligned}\n",
    "x_{n+1} &= a_{11} x_n + a_{12} y_n\\\\\n",
    "&a_{12}y_n = x_{n+1} - a_{11} x_n &(1)\\\\\n",
    "y_{n+1} &= a_{21} x_n + a_{22} y_n &(2)\n",
    "\\end{aligned}\n",
    "$$\n",
    "\n",
    "$$\n",
    "\\begin{aligned}\n",
    "x_{n+2} &= a_{11} x_{n+1} + a_{12} \\underline{(a_{21} x_n + a_{22} y_n)}\n",
    "&\\text{(plug in (2))}\\\\\n",
    "&= a_{11} x_{n+1} + a_{12} a_{21} x_n + a_{12}a_{22}y_n\\\\\n",
    "&= a_{11} x_{n+1} + a_{12} a_{21} x_n + a_{22} \\underline{(x_{n+1} - a_{11}x_n)}\n",
    "&\\text{(plug in (1))}\\\\\n",
    "&= (a_{11} + a_{22})x_{n+1} +(a_{12}a_{21} - a_{22}a_{11})x_n\n",
    "\\end{aligned}\n",
    "$$"
   ]
  },
  {
   "cell_type": "markdown",
   "metadata": {},
   "source": [
    "It is known that the solution will be in the form of $x_n = \\mathrm{C}\\lambda^n$, then we can make substitution:\n",
    "$$\n",
    "\\begin{aligned}\n",
    "  &\\mathrm{C}\\lambda^{n+2} - \\mathrm{C}(a_{11} + a_{22})\\lambda^{n+1} + \\mathrm{C}(a_{22}a_{11} - a_{12}a_{21})\\lambda^n = 0\\\\\n",
    "  &\\lambda^2 - (a_{11} + a_{22})\\lambda + (a_{22}a_{11} - a_{12}a_{21}) = 0\\\\\n",
    "  &\\lambda^2 - \\beta\\lambda + \\gamma = 0\n",
    "\\end{aligned}\\\\\n",
    "$$"
   ]
  },
  {
   "cell_type": "markdown",
   "metadata": {},
   "source": [
    "where\n",
    "$$\n",
    "\\left\\{\n",
    "\\begin{aligned}\n",
    "&\\beta = a_{11} + a_{22}\\\\\n",
    "&\\gamma = a_{22}a_{11} - a_{12}a_{21}\n",
    "\\end{aligned}\n",
    "\\right.\n",
    "$$"
   ]
  },
  {
   "cell_type": "markdown",
   "metadata": {},
   "source": [
    "The equation\n",
    "$$\n",
    "\\lambda^2 - \\beta\\lambda + \\gamma = 0\n",
    "$$\n",
    "is termed as **characteristic equation**, and the solutions\n",
    "$$\n",
    "\\lambda_1,\\ \\ \\lambda_2 = \\frac{\\beta\\pm\\sqrt{\\beta^2 - 4\\gamma}}{2}\n",
    "$$\n",
    "are termed as **eigenvalues**."
   ]
  },
  {
   "cell_type": "markdown",
   "metadata": {},
   "source": [
    "Since the simplified equation is *linear*, the linear combinations of the $\\lambda_1^n$ and $\\lambda_2^n$ are also solutions to that equation (*principle of linear superposition*).\n",
    "\n",
    "So the general solution would be:\n",
    "$$\n",
    "x_n = \\mathrm{A}_1\\lambda_1^n + \\mathrm{A_2}\\lambda_2^n,\\ \\ \\forall \\mathrm{A_1,A_2} \\in \\mathbb{R}\n",
    "$$\n",
    "where $A_1$ and $A_2$ are constants (not necessarily different). Given $x_0$ and $x_1$ (or any other terms) we can fix the value of $A_1$ and $A_2$."
   ]
  },
  {
   "cell_type": "markdown",
   "metadata": {},
   "source": [
    "If we eliminate $x$ instead of $y$, we'll get a similar result. It's a safe guess that the solution to the system of first-order linear equations should be in the form of:\n",
    "$$\n",
    "\\left\\{\n",
    "\\begin{aligned}\n",
    "    x_n = \\mathrm{A}_1\\lambda_1^n + \\mathrm{A}_2\\lambda_2^n\\\\\n",
    "    y_n = \\mathrm{B}_1 \\lambda_1^n + \\mathrm{B}_2\\lambda_2^n\n",
    "\\end{aligned}\n",
    "\\right.\n",
    "$$\n",
    "\n",
    "Using linear algebra knowledge, we can show that the solution is indeed in this form."
   ]
  },
  {
   "cell_type": "markdown",
   "metadata": {},
   "source": [
    "### How to solve linear difference equations (linear algebra perspective)"
   ]
  },
  {
   "cell_type": "markdown",
   "metadata": {},
   "source": [
    "A shorthand way of writing a system of linear equations:\n",
    "$$\n",
    "ax+by = 0\\\\\n",
    "cx+dy = 0\n",
    "$$"
   ]
  },
  {
   "cell_type": "markdown",
   "metadata": {},
   "source": [
    "\n",
    "using vector notation is:\n",
    "$$\n",
    "Mv = 0\n",
    "$$\n",
    "where\n",
    "$$\n",
    "M = \\left(\n",
    "\\begin{matrix}\n",
    "    a & b \\\\\n",
    "    c & d \\\\\n",
    "\\end{matrix}\n",
    "\\right)\n",
    "\\text{      and      }\n",
    "v =\n",
    "\\left(\n",
    "\\begin{matrix}\n",
    "    x\\\\\n",
    "    y\n",
    "\\end{matrix}\n",
    "\\right)\\\\\n",
    "$$\n"
   ]
  },
  {
   "cell_type": "markdown",
   "metadata": {},
   "source": [
    "We would like the system to have more than the trivial solution \n",
    "$\\textbf{v} = \\left( \\begin{matrix}x\\\\y\\end{matrix}\\right)$. To achieve this, we can test **whether the determinant of $M$** is zero; i.e.,\n",
    "$$\n",
    "det\\textbf{M} = ad-bc = 0\n",
    "$$"
   ]
  },
  {
   "cell_type": "markdown",
   "metadata": {},
   "source": [
    "If the determinant is zero, it means that the equations contain the same information (i.e. we can derive that $x = -by/a$). This either means there's no solution or there're infinitely many solutions to the system of equations.\n",
    "\n",
    "Apply the linear algebraic view to solve the more general linear system. The basic idea is we can simplify the system to the form of having zero on the right hand side."
   ]
  },
  {
   "cell_type": "markdown",
   "metadata": {},
   "source": [
    "The general system we used above\n",
    "$$\n",
    "x_{n+1} = a_{11} x_n + a_{12} y_n = ax_n + by_n\\\\\n",
    "y_{n+1} = a_{21} x_n + a_{22} y_n = cx_n + dy_n\\\\\n",
    "$$\n",
    "can be written in the form of:\n",
    "$$\n",
    "\\textbf{v}_{n+1} = \\textbf{M}\\textbf{v}_{n}\n",
    "$$"
   ]
  },
  {
   "cell_type": "markdown",
   "metadata": {},
   "source": [
    "We know that the solutions to the system will look like\n",
    "$$\n",
    "\\textbf{v}_n = \\left(\n",
    "\\begin{matrix}\n",
    "A\\lambda^n\\\\B\\lambda^n\n",
    "\\end{matrix}\n",
    "\\right) = \\lambda^n \\left(\n",
    "\\begin{matrix}\n",
    "A\\\\\n",
    "B\n",
    "\\end{matrix}\n",
    "\\right)\n",
    "$$"
   ]
  },
  {
   "cell_type": "markdown",
   "metadata": {},
   "source": [
    "Perform substitution, we'll get\n",
    "$$\n",
    "\\left(\n",
    "\\begin{matrix}\n",
    "    \\lambda^{n+1}A\\\\\n",
    "    \\lambda^{n+1}B\n",
    "\\end{matrix}\n",
    "\\right)\n",
    "= M \\lambda^n\n",
    "\\left(\n",
    "\\begin{matrix}\n",
    "    A\\\\B\n",
    "\\end{matrix}\n",
    "\\right)\\\\\n",
    "\\left(\n",
    "\\begin{matrix}\n",
    "    \\lambda A\\\\\n",
    "    \\lambda B\n",
    "\\end{matrix}\n",
    "\\right)\n",
    "= M\n",
    "\\left(\n",
    "\\begin{matrix}\n",
    "    A\\\\\n",
    "    B\n",
    "\\end{matrix}\n",
    "\\right)\n",
    "$$"
   ]
  },
  {
   "cell_type": "markdown",
   "metadata": {},
   "source": [
    "Expand the simplified system of equations notation, we can see\n",
    "$$\n",
    "\\begin{aligned}\n",
    "    \\lambda A = aA + bB\\\\\n",
    "    \\lambda B = cA + dB\n",
    "\\end{aligned}\n",
    "$$\n",
    "\n",
    "$$\n",
    "\\begin{aligned}\n",
    "    (a-\\lambda)A + bB = 0\\\\\n",
    "    cA + (d-\\lambda)B = 0\n",
    "\\end{aligned}\n",
    "$$"
   ]
  },
  {
   "cell_type": "markdown",
   "metadata": {},
   "source": [
    "This is equivalent to\n",
    "$$\n",
    "\\left(\n",
    "\\begin{matrix}\n",
    "a-\\lambda & b\\\\\n",
    "a & d - \\lambda\n",
    "\\end{matrix}\n",
    "\\right)\n",
    "\\left(\n",
    "    \\begin{matrix}\n",
    "        A\\\\B\n",
    "    \\end{matrix}\n",
    "\\right) = 0\n",
    "$$"
   ]
  },
  {
   "cell_type": "markdown",
   "metadata": {},
   "source": [
    "To have nonzero solutions for $A$ and $B$, we would like to make the determinant of that matrix equal to zero:\n",
    "$$\n",
    "\\mathrm{det}\\textbf{M} = \\mathrm{det} \\left(\n",
    "\\begin{matrix}\n",
    "a-\\lambda & b\\\\\n",
    "a & d - \\lambda\n",
    "\\end{matrix}\n",
    "\\right)\n",
    "$$"
   ]
  },
  {
   "cell_type": "markdown",
   "metadata": {},
   "source": [
    "This leads to\n",
    "$$\n",
    "\\begin{aligned}\n",
    "    (a - \\lambda)(d - \\lambda) - bc = 0\\\\\n",
    "    \\lambda^2 -(a + d)\\lambda + ad - bc = 0\\\\\n",
    "    \\lambda^2 - \\beta\\lambda + \\gamma = 0\n",
    "\\end{aligned}\n",
    "$$\n",
    "\n",
    "where\n",
    "$$\n",
    "\\left\\{\n",
    "\\begin{aligned}\n",
    "&\\beta = a + d = a_{11} + a_{22}\\\\\n",
    "&\\gamma = ad - bc = a_{11}a_{22} - a_{12}a_{21}\n",
    "\\end{aligned}\n",
    "\\right.\n",
    "$$"
   ]
  },
  {
   "cell_type": "markdown",
   "metadata": {},
   "source": [
    "> ### Special meanings of $\\beta$, $\\gamma$ and $\\beta^2 - 4\\gamma$ in linear algebra\n",
    ">\n",
    "> $\\beta = a_{11} + a_{22} = \\mathrm{Tr}\\textbf{M} =$ the *trace* of matrix $\\textbf{M}$\n",
    ">\n",
    "> $\\gamma = a_{11}a_{22} - a_{12}a_{21} = \\mathrm{det}\\textbf{M} =$ the *determinant* of $\\textbf{M}$\n",
    ">\n",
    "> $\\beta^2 - 4\\gamma = \\mathrm{disc}(\\textbf{M}) =$ the *discriminant* of $\\textbf{M}$"
   ]
  },
  {
   "cell_type": "markdown",
   "metadata": {},
   "source": [
    "### Solve the system of difference equations using the methods introduced above"
   ]
  },
  {
   "cell_type": "markdown",
   "metadata": {},
   "source": [
    "Question to answer: will the plant be successful?\n",
    "\n",
    "To simplify the notation, let $a = \\alpha\\sigma\\gamma$ and $b = \\beta\\sigma^2(1-\\alpha)\\gamma$."
   ]
  },
  {
   "cell_type": "markdown",
   "metadata": {},
   "source": [
    "We'll have:\n",
    "$$\n",
    "    p_{n+1} - a p - b p_{n-1} = 0\n",
    "$$\n",
    "which corresponds to the characteristic equation\n",
    "$$\n",
    "    \\lambda^2 -a\\lambda - b = 0\n",
    "$$"
   ]
  },
  {
   "cell_type": "markdown",
   "metadata": {},
   "source": [
    "Solve the quadratic equation, we gan get that\n",
    "$$\n",
    "\\begin{aligned}\n",
    "    \\lambda &= \\frac{a \\pm \\sqrt{a^2 + 4b}}{2}\\\\\n",
    "    \\lambda &= \\frac{(\\alpha\\sigma\\gamma) \\pm \\sqrt{(\\alpha\\sigma\\gamma)^2 + 4(\\beta\\sigma^2-\\beta\\sigma^2\\alpha)\\gamma}}{2}\\\\\n",
    "    \\lambda &=\n",
    "    \\frac{\\alpha\\sigma\\gamma}{2} \\pm\n",
    "    \\frac{\\sqrt{(\\alpha\\sigma\\gamma)^2(1 + 4(\\frac{\\beta\\sigma}{\\alpha^2\\gamma}-\\frac{\\beta\\sigma}{\\alpha\\gamma}))}}{2}\n",
    "\\end{aligned}\n",
    "$$"
   ]
  },
  {
   "cell_type": "markdown",
   "metadata": {},
   "source": [
    "We can write the overcomplicated full solution in this form\n",
    "$$\n",
    "\\boxed{\n",
    "    \\lambda = \\frac{\\alpha\\sigma\\gamma}{2}(1 \\pm \\sqrt{1 + \\delta})\n",
    "}\n",
    "$$\n",
    "\n",
    "where\n",
    "$$\n",
    "\\begin{aligned}\n",
    "    \\delta &= 4(\\frac{\\beta\\sigma}{\\alpha^2\\gamma} - \\frac{\\beta\\sigma}{\\alpha\\gamma})\\\\\n",
    "    &=\\frac{4}{\\gamma} \\frac{\\beta}{\\alpha} (\\frac{1}{\\alpha} - 1)\\\\\n",
    "\\end{aligned}\n",
    "$$"
   ]
  },
  {
   "cell_type": "markdown",
   "metadata": {},
   "source": [
    "\n",
    "Since we know that $\\alpha$ cannot be larger than 1, $\\delta$ is a positive quantity.\n",
    "\n",
    "Simple assumption: $\\beta = 0$, which means few two-year-old seeds germinate.\n",
    "Then $\\lambda = \\alpha\\sigma\\gamma, \\ \\ 0$ and $p_n = c_1 (\\sigma\\gamma\\alpha)^n + c_2$. (Note that $0^n$ is $1$)(?)\n",
    "\n",
    "This is also the \"lower-bound\" of the positive eigenvalue $\\lambda$. Therefore, to en sure propagation, we need:\n",
    "$$\n",
    "\\lambda > 1,\\   \\ \\alpha\\sigma\\gamma > 1, \\    \\ \\gamma > 1/\\sigma\\alpha\n",
    "$$\n",
    "i.e., the number of seeds produced per plant should be greater than $1/\\sigma\\alpha$."
   ]
  },
  {
   "cell_type": "markdown",
   "metadata": {},
   "source": [
    "Under the assumption that $\\beta = 0$, it means that the parent plant can only be\n",
    "assured of replacing it self if it gives rise to at least *one* germinated seed.\n",
    "\n",
    "If $\\beta$ is not negligibly small, then we'll solve for this\n",
    "$$\n",
    "\\gamma > \\frac{1}{\\alpha\\sigma + \\beta\\sigma^2 (1-\\alpha)}\n",
    "$$\n"
   ]
  },
  {
   "cell_type": "markdown",
   "metadata": {},
   "source": [
    "## Complex eignevalues"
   ]
  },
  {
   "cell_type": "markdown",
   "metadata": {},
   "source": [
    "### Brief intro to complex number\n",
    "\n",
    "$$i^2 = -1$$\n",
    "\n",
    "#### Computing principle:\n",
    "$$\n",
    "\\begin{aligned}\n",
    "    &(a_1+b_1i) + (a_2 + b_2i) = (a_1 + a_2) + (b_1 + b_2) i\\\\\n",
    "    &(a_1 + b_1 i)(a_2 + b_2i) = a_1a_2 + a_2b_1 i -b_1b_2\n",
    "\\end{aligned}\n",
    "$$\n",
    " \n",
    "#### Modulus / norm / absolute value:\n",
    "$$|a+bi|^2 = a^2 + b^2$$\n",
    "\n",
    "\n",
    "#### Polar form Euler's identity\n",
    "$$z_1 ( = \\lambda_1) = a+bi = r e^{i\\theta} = r(\\cos{\\theta} + i \\sin{\\theta})$$\n",
    "$$z_2 ( = \\lambda_2) = a - bi = r e^{-i\\theta} = r(\\cos{\\theta} - i \\sin{\\theta})$$\n",
    "i.e., $a = r \\cos\\theta$, $b = \\sin\\theta$, and \n",
    "$$\n",
    "r =\\sqrt{(a^2 + b^2)}\n",
    "$$\n",
    "$$\n",
    "\\theta = \\tan^{-1}(b/a)\n",
    "$$\n",
    "$$\\lambda_1\\lambda_2 = (r_1e^{i\\theta_1})(r_2e^{i\\theta_2})$$\n",
    "#### Conjugate\n",
    "\n",
    "$$\\bar z = a - bi$$\n",
    "\n",
    "#### Power of a complex number\n",
    "\n",
    "$$z^n = (re^{in\\theta}) = r^n(\\cos{n\\theta} + i\\sin{n\\theta})$$\n",
    "\n",
    "The geometric meaning of this conversion is: rotating the vector $(a,b)$ by a multiple $n$ of the angle $\\theta$ and extend it's length to $len(former)^n$"
   ]
  },
  {
   "cell_type": "code",
   "execution_count": 30,
   "metadata": {},
   "outputs": [],
   "source": [
    "import code"
   ]
  },
  {
   "cell_type": "code",
   "execution_count": 31,
   "metadata": {},
   "outputs": [
    {
     "data": {
      "image/png": "[encoded data removed]",
      "text/plain": [
       "<Figure size 432x288 with 1 Axes>"
      ]
     },
     "metadata": {
      "needs_background": "light"
     },
     "output_type": "display_data"
    }
   ],
   "source": [
    "z=[20+10j,15,-10-10j,5+15j] # array of complex values\n",
    "\n",
    "complex_plane(z,1)"
   ]
  },
  {
   "cell_type": "markdown",
   "metadata": {},
   "source": [
    "Recall that for a characteristic equation\n",
    "$$\n",
    "\\lambda^2 - \\beta\\lambda + \\gamma = 0\n",
    "$$\n",
    "If $\\beta^2 < 4\\gamma$, the roots would be in the form of\n",
    "$$\n",
    "\\lambda_1 = a + bi \\qquad \\lambda_2 = a - bi\n",
    "$$\n",
    "where\n",
    "$$\n",
    "a = \\beta/2 \\qquad b = \\frac{1}{2} |\\beta^2 - 4\\gamma|^{1/2} \n",
    "$$"
   ]
  },
  {
   "cell_type": "markdown",
   "metadata": {},
   "source": [
    "When complex eigne values are obtained, we'll have general solutions in the form of \n",
    "$$\n",
    "x_n = A_1(a + bi)^n + A_2 (a-bi)^n\n",
    "$$"
   ]
  },
  {
   "cell_type": "markdown",
   "execution_count": null,
   "metadata": {},
   "outputs": [],
   "source": [
    "It is necessary that we use *Euler's theorem* to rewrite the equations:\n",
    "$$\n",
    "\\begin{aligned}\n",
    "x_n &= x_n = A_1(a + bi)^n + A_2 (a-bi)^n\\\\\n",
    "&= A_1 r^n (\\cos(n\\theta) + i \\sin(n \\theta)) + A_2 r^n (\\cos(n\\theta) - i \\sin(n \\theta))\\\\\n",
    "&= (A_1 + A_2)r^n\\cos(n \\theta) + i (A_1 - A_2) r^n\\sin(n \\theta)\n",
    "\\end{aligned}\n",
    "$$\n",
    "We can substitue with $B_1 = A_1 + A_2$ and $B_2 = A_1 - A_2$ to make the equation prettier."
   ]
  },
  {
   "cell_type": "markdown",
   "execution_count": null,
   "metadata": {},
   "outputs": [],
   "source": [
    "We can see that $x_n$ has a real part and an imaginary part. Suppose that\n",
    "$$\n",
    "R_n = r^n \\cos(n\\theta) \\quad I_n = r^n \\sin(n\\theta)\n",
    "$$\n",
    "Then $x_n$ can be re-written in the form of\n",
    "$$\n",
    "x_n = B_1R_n + iB_2 I_n\n",
    "$$"
   ]
  },
  {
   "cell_type": "markdown",
   "execution_count": null,
   "metadata": {},
   "outputs": [],
   "source": [
    "Since it is linear, we have proven that **the real and imaginary parts** of the complex solution above **are themselves solutions**.\n",
    "\n",
    "We can then define a **real-valued solution** by linear superposition\n",
    "$$\n",
    "\\begin{aligned}\n",
    "x_n &= C_1 R_n + C_2 I_n\\\\\n",
    "&= r^n (C_1 \\cos n\\theta + C_2 \\sin n\\theta)\n",
    "\\end{aligned}\n",
    "$$"
   ]
  },
  {
   "cell_type": "markdown",
   "execution_count": null,
   "metadata": {},
   "outputs": [],
   "source": [
    "Note that the equation corresponds to *oscillation* solutions.\n",
    "The properties of the solutions are influenced by:\n",
    "\n",
    "1. Amplitude\n",
    "$$\n",
    "\\left\\{\n",
    "\\begin{aligned}\n",
    "&\\text{growing amplitude} &r = \\sqrt{(a^2 + b^2)} > 1\\\\\n",
    "&\\text{decreasing amplitude} &r = \\sqrt{(a^2+b^2)} < 1\\\\\n",
    "&\\text{constant amplitude} &r = \\sqrt{(a^2 + b^2)} = 1\n",
    "\\end{aligned}\n",
    "\\right.\n",
    "$$\n",
    "2. Frequency\n",
    "Depends on the ratio $b/a$. \n",
    "\n",
    "Specificly, when $\\theta = \\tan^{-1}(b/a) = n\\pi (n \\in \\mathbb{R})$ and $r = \\sqrt{a^2 + b^2} = 1$, the solution will be truly periodic, i.e., it will swing through a finite number of values and returns to these exact values every cycle --- which is a *stable mode*."
   ]
  },
  {
   "cell_type": "markdown",
   "execution_count": null,
   "metadata": {},
   "outputs": [],
   "source": [
    "### Example"
   ]
  },
  {
   "cell_type": "markdown",
   "execution_count": null,
   "metadata": {},
   "outputs": [],
   "source": [
    "Given a difference equation\n",
    "$$\n",
    "x_{n+2} - 2x_{n+1} + 2x_n = 0,\n",
    "$$\n",
    "it has a characteristic equation\n",
    "$$\n",
    "\\lambda^2 - 2\\lambda + 2 = 0\n",
    "$$"
   ]
  }
 ],
 "metadata": {
  "kernelspec": {
   "display_name": "Python 3",
   "language": "python",
   "name": "python3"
  },
  "language_info": {
   "codemirror_mode": {
    "name": "ipython",
    "version": 3
   },
   "file_extension": ".py",
   "mimetype": "text/x-python",
   "name": "python",
   "nbconvert_exporter": "python",
   "pygments_lexer": "ipython3",
   "version": "3.7.5"
  }
 },
 "nbformat": 4,
 "nbformat_minor": 4
}